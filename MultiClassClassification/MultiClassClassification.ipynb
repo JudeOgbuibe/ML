{
 "cells": [
  {
   "cell_type": "markdown",
   "metadata": {},
   "source": [
    "# Multi-Class Classification"
   ]
  },
  {
   "cell_type": "markdown",
   "metadata": {},
   "source": [
    "### Logistic Regression\n",
    "We would be applying logistic regression to a classification involving more than one class using the ones vs all method which involves training a seperate classfier for every class with respect to the full training set.\n",
    "In this exercise, we would be applying this in handwritten digit recognition. The dataset consist of pixel intensity matrix for a training set of 5000 examples each consisting of a seperate hand written digit."
   ]
  },
  {
   "cell_type": "code",
   "execution_count": 248,
   "metadata": {},
   "outputs": [],
   "source": [
    "import numpy as np\n",
    "import scipy.io as sio\n",
    "from scipy import optimize\n",
    "from math import sqrt\n",
    "from matplotlib import pyplot as plt"
   ]
  },
  {
   "cell_type": "code",
   "execution_count": 191,
   "metadata": {},
   "outputs": [
    {
     "data": {
      "text/plain": [
       "(5000, 400)"
      ]
     },
     "execution_count": 191,
     "metadata": {},
     "output_type": "execute_result"
    }
   ],
   "source": [
    "data = sio.loadmat('ex3data1.mat')\n",
    "X = data['X']\n",
    "y = data['y']\n",
    "X.shape"
   ]
  },
  {
   "cell_type": "markdown",
   "metadata": {},
   "source": [
    "There are 400 features here, i.e a single training example contains 20 by 20 pixels such that each feature contains the grey scale intensity of that point in floating points. Using logistic regression with a linear model."
   ]
  },
  {
   "cell_type": "code",
   "execution_count": 304,
   "metadata": {},
   "outputs": [
    {
     "data": {
      "image/png": "[encoded data removed]",
      "text/plain": [
       "<matplotlib.figure.Figure at 0x18b3604d198>"
      ]
     },
     "metadata": {},
     "output_type": "display_data"
    }
   ],
   "source": [
    "f, ax = plt.subplots(5,5)\n",
    "for i in range(5):\n",
    "    for j in range(5):\n",
    "        ax[i,j].imshow(X[np.random.randint(1, 5000)].reshape([20,20]).T, cmap = 'gray')\n",
    "\n",
    "plt.setp([a.get_xticklabels() for a in ax[0, :]], visible=False)\n",
    "plt.setp([a.get_yticklabels() for a in ax[:, 1]], visible=False)\n",
    "plt.show()"
   ]
  },
  {
   "cell_type": "code",
   "execution_count": 20,
   "metadata": {},
   "outputs": [
    {
     "data": {
      "text/plain": [
       "(5000, 401)"
      ]
     },
     "execution_count": 20,
     "metadata": {},
     "output_type": "execute_result"
    }
   ],
   "source": [
    "# Add the constant element\n",
    "\n",
    "X = np.hstack(((np.ones([X.shape[0],1])), X))"
   ]
  },
  {
   "cell_type": "code",
   "execution_count": 106,
   "metadata": {},
   "outputs": [],
   "source": [
    "# Reshape the labels into a Matrix of 0 and 1 based on the class\n",
    "\n",
    "Y = np.zeros((y.shape[0], 10))\n",
    "\n",
    "for i,j in enumerate(y):\n",
    "    Y[i,(j-1)] = 1\n",
    "\n",
    "# This result in a class label Matrix Y which would be used for our ones vs all classification"
   ]
  },
  {
   "cell_type": "code",
   "execution_count": 129,
   "metadata": {
    "collapsed": true
   },
   "outputs": [],
   "source": [
    "def sigmoid(x):\n",
    "    '''\n",
    "    input: a value or an array of values.\n",
    "    Returns: The output of the sigmoid function operated on the input value.\n",
    "    '''\n",
    "    \n",
    "    return 1/(1 + np.exp(-x))\n",
    "\n",
    "def cost_reg(theta, X, y, lambd):\n",
    "    '''\n",
    "    Inputs: \n",
    "    theta - The parameter vector for the decision boundary.\n",
    "    X - The feature matrix for the features.\n",
    "    y - The labels corresponding to the features.\n",
    "    lambd - Regularization coefficient\n",
    "    \n",
    "    Returns: The cost\n",
    "    '''\n",
    "    theta = theta.reshape((theta.shape[0],1))\n",
    "    m = len(y)\n",
    "    h = sigmoid(np.matmul(X, theta))\n",
    "    cost = (1/m) * np.sum(-y * np.log(h) - (1 - y) * np.log(1 - h))\n",
    "    cost += (lambd/(2*m)) * np.power(theta,2) #this takes into account the regularization term, thus increasing the cost or penalty for the selected parameters\n",
    "    return cost\n",
    "\n",
    "def grad_reg(theta, X, y, lambd):\n",
    "    '''\n",
    "    theta - The parameter vector for the decision boundary.\n",
    "    X - The feature matrix for the features.\n",
    "    y - The labels corresponding to the features.\n",
    "    lambd - Regularization coefficient\n",
    "    \n",
    "    Returns: The gradient or differential values corresponding to the theta parameters.\n",
    "    '''\n",
    "    theta = theta.reshape((theta.shape[0],1))\n",
    "    m = len(y)\n",
    "    h = sigmoid(np.matmul(X, theta))\n",
    "    grad = (1/m) * sum(((h - y) * X))\n",
    "    theta[0,0] = 0\n",
    "    theta = theta.flatten()\n",
    "    grad += (lambd/m) * theta # To account for regularization. The constant term is usually not regularized.\n",
    "    \n",
    "    return grad\n",
    "\n",
    "def predict (X, y, theta):\n",
    "    t = sigmoid(np.matmul(X,theta))\n",
    "    ypred = np.array([1 if i >= 0.5 else 0 for i in t]) #gives the predicted values\n",
    "    y = y.flatten()\n",
    "    acc = (ypred == y)\n",
    "    acc = acc.astype(int)\n",
    "    predictAccuracy = np.mean(acc)\n",
    "    return predictAccuracy * 100\n",
    "    "
   ]
  },
  {
   "cell_type": "markdown",
   "metadata": {},
   "source": [
    "Lets implement logistic regression for class labels of one only and see how it works"
   ]
  },
  {
   "cell_type": "code",
   "execution_count": 118,
   "metadata": {},
   "outputs": [],
   "source": [
    "theta = np.zeros(X.shape[1])\n",
    "lambdaa = 0.1 #the regularization parameter\n",
    "thetaopt = optimize.minimize(fun = cost_reg, x0 = theta, jac = grad_reg, \\\n",
    "                             args = (X, Y[:,0][np.newaxis].T, lambdaa), method = 'L-BFGS-B').x"
   ]
  },
  {
   "cell_type": "code",
   "execution_count": 126,
   "metadata": {},
   "outputs": [
    {
     "name": "stdout",
     "output_type": "stream",
     "text": [
      "The predict accuracy for the model for class label 1 is: 98.56 based on the training dataset\n"
     ]
    }
   ],
   "source": [
    "print('The predict accuracy for the model for class label 1 is: %.2f based on the training dataset' \\\n",
    "      % predict(X, Y[:,0][np.newaxis].T, thetaopt))"
   ]
  },
  {
   "cell_type": "markdown",
   "metadata": {},
   "source": [
    "As already stated, the concept of ones vs all trains different classifies for each class label. In each case, it considers this class label as the positive class while the others are negative. Just as we have done above, let's use a for loop to train a theta parameter n by c matrix; where c is the number of class labels."
   ]
  },
  {
   "cell_type": "code",
   "execution_count": 133,
   "metadata": {},
   "outputs": [
    {
     "name": "stdout",
     "output_type": "stream",
     "text": [
      "Optimation complete for class label 1. Predict accuracy on training set is: 98.560 \n",
      "Optimation complete for class label 2. Predict accuracy on training set is: 97.180 \n",
      "Optimation complete for class label 3. Predict accuracy on training set is: 96.460 \n",
      "Optimation complete for class label 4. Predict accuracy on training set is: 98.000 \n",
      "Optimation complete for class label 5. Predict accuracy on training set is: 98.040 \n",
      "Optimation complete for class label 6. Predict accuracy on training set is: 98.500 \n",
      "Optimation complete for class label 7. Predict accuracy on training set is: 98.420 \n",
      "Optimation complete for class label 8. Predict accuracy on training set is: 92.360 \n",
      "Optimation complete for class label 9. Predict accuracy on training set is: 95.100 \n",
      "Optimation complete for class label 10. Predict accuracy on training set is: 98.820 \n"
     ]
    }
   ],
   "source": [
    "theta = np.zeros([X.shape[1],10]) #initialization of the Theta Matrix\n",
    "lambdaa = 0.1\n",
    "predictlst = []\n",
    "\n",
    "for i, thetai in enumerate(theta.T):\n",
    "    theta[:,i] = optimize.minimize(fun = cost_reg, x0 = thetai, jac = grad_reg, args = (X, Y[:,i][np.newaxis].T, lambdaa), method = 'L-BFGS-B').x\n",
    "    accuracy = predict(X, Y[:,i][np.newaxis].T, theta[:,i])\n",
    "    print(\"Optimation complete for class label %d. Predict accuracy on training set is: %.3f \" % ((i+1), accuracy))\n",
    "    predictlst.append(accuracy)\n",
    "    "
   ]
  },
  {
   "cell_type": "markdown",
   "metadata": {},
   "source": [
    "The training performance of our model can obtained using the weighted average accuracy of each class model. We would use a different approach to determine the overall accuracy of our model."
   ]
  },
  {
   "cell_type": "code",
   "execution_count": 161,
   "metadata": {},
   "outputs": [
    {
     "name": "stdout",
     "output_type": "stream",
     "text": [
      "The predicted accuracy of our model on the training set is: 90.960\n"
     ]
    }
   ],
   "source": [
    "t = sigmoid(np.matmul(X, theta))\n",
    "ypred = np.argmax(t, axis = 1) + 1 #Adding one would account for zero based index\n",
    "acc = (ypred ==  y.flatten()).astype(int)\n",
    "predictAccuracy = np.mean(acc) * 100\n",
    "\n",
    "print('The predicted accuracy of our model on the training set is: %.3f' % (predictAccuracy))"
   ]
  },
  {
   "cell_type": "markdown",
   "metadata": {},
   "source": [
    "### Using a Neural Network"
   ]
  },
  {
   "cell_type": "markdown",
   "metadata": {},
   "source": [
    "We would now attempt to solve the same problem above using a neural network.\n",
    "The first step would choosing an good architecture for our neural network. This network would obviously have 400 units in its input layer (sinces there are 400 features in the trainings set) and 10 units in its output layer (since there are different classes).\n",
    "The number of hidden layers and number of hidden units in each hidden layer is based on our descretion on the complexity of the model which is required to properly classify our training examples.\n",
    "\n",
    "We would choose 1 hidden layers with 25 units.\n",
    "Our neural network is similar to logistic regression, but with a more complex model. Due to the added complexity of extra layers, we would need to re-implement the cost function and the gradient function. However, the gradient estimated via a process called back-propagation."
   ]
  },
  {
   "cell_type": "code",
   "execution_count": 215,
   "metadata": {},
   "outputs": [],
   "source": [
    "# The forward propagation step\n",
    "def nncost(nnparams, inputsize, hiddensize, num_labels, X, Y, lambdaa):\n",
    "    '''\n",
    "    Inputs:\n",
    "    -------\n",
    "    nnparams: for the sake of simplicity, the parameter vectors are unrolled or flattened into a single vector. Not that the \n",
    "        each layer of the network has its set of parameters.\n",
    "    inputsize: number of input features, this determines the size of the input layer.\n",
    "    hiddensize: The size of the hidden layer.\n",
    "    num_labels: This determines the size of the output layer or the final layer of the neural network.\n",
    "    lambdaa: regularization parameter\n",
    "    X: feature matrix\n",
    "    Y: Classes or label matrix\n",
    "    \n",
    "    Output: Returns the cost\n",
    "    -------\n",
    "    \n",
    "    '''\n",
    "    \n",
    "    m = X.shape[0]\n",
    "    \n",
    "    # Reshape the flattened out parameters\n",
    "    theta1 = nnparams[:hiddensize * (inputsize + 1)].reshape([hiddensize, (inputsize + 1)])\n",
    "    theta2 = nnparams[(hiddensize * (inputsize + 1)):].reshape([num_labels, (hiddensize + 1)])\n",
    "    \n",
    "    #y_matrix = np.eye(len(y))[y-1,:] #create a matrix of the labels, similar to what was done with a for loop\n",
    "    \n",
    "    # First Layer of Network\n",
    "    a1 = np.hstack(((np.ones([X.shape[0],1])), X))\n",
    "    z1 = np.matmul(a1, theta1.T)\n",
    "    a1out = sigmoid(z1)\n",
    "    \n",
    "    # Second Layer of Network (Hidden Layer)\n",
    "    a2 = np.hstack(((np.ones([a1out.shape[0],1])), a1out))\n",
    "    z2 = np.matmul(a2, theta2.T)\n",
    "    a2out = sigmoid(z2)\n",
    "    \n",
    "    # Compute cost un-regularized using the output from the NN\n",
    "    h1 = (-Y * np.log(a2out)) - ((1 - Y) * np.log(1 - a2out))\n",
    "    h_unreg = (1/m) * (np.sum(h1, axis = (0,1)))\n",
    "    \n",
    "    # Regularize the cost function\n",
    "    # Set the regularization parameters corresponding to the bias units\n",
    "    theta1[:,0] = 0 \n",
    "    theta2[:,0] = 0\n",
    "    h = h_unreg + (lambdaa/(2*m))*((np.sum(np.power(theta1,2), axis = (0,1))) + (np.sum(np.power(theta2,2), axis = (0,1))))\n",
    "    \n",
    "    return h\n",
    "    "
   ]
  },
  {
   "cell_type": "code",
   "execution_count": 237,
   "metadata": {},
   "outputs": [],
   "source": [
    "def sigmoidgradient(z):\n",
    "    '''\n",
    "    Input: A matrix or a scalar value\n",
    "    Returns: The derivative is of the sigmoid function\n",
    "    -------\n",
    "    '''\n",
    "    \n",
    "    return sigmoid(z) * (1 - sigmoid(z))\n",
    "\n",
    "def nngrad(nnparams, inputsize, hiddensize, num_labels, X, Y, lambdaa):\n",
    "    '''\n",
    "    Inputs:\n",
    "    -------\n",
    "    nnparams: for the sake of simplicity, the parameter vectors are unrolled or flattened into a single vector. Not that the \n",
    "        each layer of the network has its set of parameters.\n",
    "    inputsize: number of input features, this determines the size of the input layer.\n",
    "    hiddensize: The size of the hidden layer.\n",
    "    num_labels: This determines the size of the output layer or the final layer of the neural network.\n",
    "    lambdaa: regularization parameter\n",
    "    X: feature matrix\n",
    "    Y: Classes or label matrix\n",
    "    \n",
    "    Output: Returns the gradient via back propagation\n",
    "    -------\n",
    "    '''\n",
    "    m = X.shape[0]\n",
    "    \n",
    "    # Reshape the flattened out parameters\n",
    "    theta1 = nnparams[:hiddensize * (inputsize + 1)].reshape([hiddensize, (inputsize + 1)])\n",
    "    theta2 = nnparams[(hiddensize * (inputsize + 1)):].reshape([num_labels, (hiddensize + 1)])\n",
    "    \n",
    "    #y_matrix = np.eye(len(y))[y-1,:] #create a matrix of the labels, similar to what was done with a for loop\n",
    "    \n",
    "    # First Layer of Network\n",
    "    a1 = np.hstack(((np.ones([X.shape[0],1])), X))\n",
    "    z1 = np.matmul(a1, theta1.T)\n",
    "    a1out = sigmoid(z1)\n",
    "    \n",
    "    # Second Layer of Network (Hidden Layer)\n",
    "    a2 = np.hstack(((np.ones([a1out.shape[0],1])), a1out))\n",
    "    z2 = np.matmul(a2, theta2.T)\n",
    "    a2out = sigmoid(z2)\n",
    "    \n",
    "    # Backpropagation for output layer\n",
    "    d3 = a2out - Y\n",
    "    Delta2 = np.matmul(d3.T, a2)\n",
    "    \n",
    "    # Backpropagation for hidden layer\n",
    "    d2 = np.matmul(d3, theta2[:,1:]) * sigmoidgradient(z1)\n",
    "    Delta1 = np.matmul(d2.T, a1)\n",
    "    \n",
    "    # Set the regularization parameters corresponding to the bias units\n",
    "    theta1[:,0] = 0 \n",
    "    theta2[:,0] = 0\n",
    "    \n",
    "    theta1_grad = (1/m) * Delta1 + (lambdaa/m) * theta1\n",
    "    theta2_grad = (1/m) * Delta2 + (lambdaa/m) * theta2\n",
    "    \n",
    "    return np.concatenate([theta1_grad.flatten(), theta2_grad.flatten()])\n",
    "    "
   ]
  },
  {
   "cell_type": "markdown",
   "metadata": {},
   "source": [
    "The next step would be initialization of the learning parameters (theta). Before now we are used to initializing theta with zeros, however in Neural networks, this doesn't work out well. Its a normal practice to break symmetry by using random parameters."
   ]
  },
  {
   "cell_type": "code",
   "execution_count": 232,
   "metadata": {},
   "outputs": [],
   "source": [
    "def initparams(sizeout, sizein):\n",
    "    '''\n",
    "    Input: \n",
    "    -----\n",
    "    sizeout: The number of output neurons to the layer of the NN\n",
    "    sizein: The number of input neurons to the layer of the NN\n",
    "    \n",
    "    Output:\n",
    "    ------\n",
    "    Returns the unrolled paramaters for the layer of the NN\n",
    "    \n",
    "    '''\n",
    "    epsilon = sqrt(6)/sqrt(sizeout + sizein)\n",
    "    return np.random.rand(sizeout, 1 + sizein) * 2 * epsilon - epsilon\n"
   ]
  },
  {
   "cell_type": "markdown",
   "metadata": {},
   "source": [
    "Lets put it all together and train our first neural network."
   ]
  },
  {
   "cell_type": "code",
   "execution_count": 238,
   "metadata": {},
   "outputs": [],
   "source": [
    "numofinputunits = 400\n",
    "numofhiddenunits = 25\n",
    "numoflabels = 10\n",
    "lambdaa = 0.1\n",
    "\n",
    "theta1 = initparams(numofhiddenunits, numofinputunits) # The first layer of NN\n",
    "theta2 = initparams(numoflabels, numofhiddenunits) # The second layer of NN\n",
    "\n",
    "nnparams = np.concatenate([theta1.flatten(), theta2.flatten()]) # Unroll the parameters into a vector to be fed to the minimization algorithm\n",
    "\n",
    "nnparamsopt = optimize.minimize(fun = nncost, x0 = nnparams, jac = nngrad, \\\n",
    "                             args = (numofinputunits, numofhiddenunits, numoflabels, X, Y, lambdaa), method = 'L-BFGS-B').x\n"
   ]
  },
  {
   "cell_type": "code",
   "execution_count": 245,
   "metadata": {},
   "outputs": [],
   "source": [
    "def nnpredict(nnparams, numofinputunits, numofhiddenunits, num_labels, X):\n",
    "    '''\n",
    "    Inputs:\n",
    "    -------\n",
    "    nnparams - trained NN parameters\n",
    "    numofinputunits: number of input features, this determines the size of the input layer.\n",
    "    numofhiddenunits: The size of the hidden layer.\n",
    "    num_labels: This determines the size of the output layer or the final layer of the neural network.\n",
    "    X - The features vector\n",
    "    \n",
    "    Output:\n",
    "    -------\n",
    "    Returns the predicted values of y\n",
    "    '''\n",
    "    \n",
    "    # Unroll the parameter vectors\n",
    "    theta1 = nnparams[:numofhiddenunits * (numofinputunits + 1)].reshape([numofhiddenunits, (numofinputunits + 1)])\n",
    "    theta2 = nnparams[(numofhiddenunits * (numofinputunits + 1)):].reshape([num_labels, (numofhiddenunits + 1)])\n",
    "    \n",
    "    # Predict First layer\n",
    "    h1 = sigmoid(np.matmul(np.hstack(((np.ones([X.shape[0],1])), X)), theta1.T))\n",
    "    \n",
    "    # Predict Second Layer\n",
    "    h2 = sigmoid(np.matmul(np.hstack(((np.ones([h1.shape[0],1])), h1)), theta2.T))\n",
    "    \n",
    "    return np.argmax(h2, axis = 1) + 1\n",
    "    "
   ]
  },
  {
   "cell_type": "code",
   "execution_count": 247,
   "metadata": {},
   "outputs": [
    {
     "name": "stdout",
     "output_type": "stream",
     "text": [
      "The predicted accuracy of our model on the training set is: 99.940\n"
     ]
    }
   ],
   "source": [
    "ypred = nnpredict(nnparamsopt, numofinputunits, numofhiddenunits, numoflabels, X)\n",
    "acc = (ypred ==  y.flatten()).astype(int)\n",
    "predictAccuracy = np.mean(acc) * 100\n",
    "\n",
    "print('The predicted accuracy of our model on the training set is: %.3f' % (predictAccuracy))"
   ]
  },
  {
   "cell_type": "markdown",
   "metadata": {},
   "source": [
    "The model accuracy is almost perfect due to the added complexity of an extra layer of the neural network compared with a linear model logistic regression."
   ]
  },
  {
   "cell_type": "markdown",
   "metadata": {},
   "source": [
    "## The End"
   ]
  },
  {
   "cell_type": "code",
   "execution_count": null,
   "metadata": {},
   "outputs": [],
   "source": []
  },
  {
   "cell_type": "code",
   "execution_count": null,
   "metadata": {
    "collapsed": true
   },
   "outputs": [],
   "source": []
  }
 ],
 "metadata": {
  "kernelspec": {
   "display_name": "Python 3",
   "language": "python",
   "name": "python3"
  },
  "language_info": {
   "codemirror_mode": {
    "name": "ipython",
    "version": 3
   },
   "file_extension": ".py",
   "mimetype": "text/x-python",
   "name": "python",
   "nbconvert_exporter": "python",
   "pygments_lexer": "ipython3",
   "version": "3.6.1"
  }
 },
 "nbformat": 4,
 "nbformat_minor": 2
}
