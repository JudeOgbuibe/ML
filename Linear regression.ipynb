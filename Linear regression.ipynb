{
 "cells": [
  {
   "cell_type": "markdown",
   "metadata": {},
   "source": [
    "## Linear Regression using Gradient descent"
   ]
  },
  {
   "cell_type": "markdown",
   "metadata": {},
   "source": [
    "#### Exercise 1a: Linear regression with one independent variable using gradient descent"
   ]
  },
  {
   "cell_type": "markdown",
   "metadata": {},
   "source": [
    "This notebook implements the exercise lessons in the Stanford Online Machine Learning course taught by Andrew Ng on coursera.org. I hope to implement these on Python since the courses are taught using Octave/Matlab"
   ]
  },
  {
   "cell_type": "code",
   "execution_count": 1,
   "metadata": {
    "collapsed": true
   },
   "outputs": [],
   "source": [
    "import numpy as np\n",
    "import matplotlib.pyplot as plt"
   ]
  },
  {
   "cell_type": "markdown",
   "metadata": {},
   "source": [
    "Step 1: Read the data file into the Numpy ndarray object.\n",
    "This data shows the profits for a food truck vendor in different cities of different populations."
   ]
  },
  {
   "cell_type": "code",
   "execution_count": 35,
   "metadata": {},
   "outputs": [],
   "source": [
    "data = np.loadtxt('ex1data1.txt', delimiter = ',')\n",
    "X = data[:,0]\n",
    "y = data[:,1]\n",
    "m = len(data) #number of training examples"
   ]
  },
  {
   "cell_type": "markdown",
   "metadata": {},
   "source": [
    "Step 2: Plot a scatter diagram for the dataset. There are 97 training examples in the dataset."
   ]
  },
  {
   "cell_type": "code",
   "execution_count": 36,
   "metadata": {},
   "outputs": [
    {
     "data": {
      "image/png": "[encoded data removed]",
      "text/plain": [
       "<matplotlib.figure.Figure at 0x28a92f5c128>"
      ]
     },
     "metadata": {},
     "output_type": "display_data"
    }
   ],
   "source": [
    "plt.scatter(X, y, marker='+')\n",
    "plt.xlabel('Population size in 10,000s')\n",
    "plt.ylabel('Profit in $10,000s')\n",
    "plt.show()"
   ]
  },
  {
   "cell_type": "markdown",
   "metadata": {},
   "source": [
    "We would create a linear regression model which would be used to predict profits for different cities based on their population using gradient descent algorithm."
   ]
  },
  {
   "cell_type": "code",
   "execution_count": 40,
   "metadata": {},
   "outputs": [
    {
     "data": {
      "text/plain": [
       "array([[ 0.],\n",
       "       [ 0.]])"
      ]
     },
     "execution_count": 40,
     "metadata": {},
     "output_type": "execute_result"
    }
   ],
   "source": [
    "#Add a column one of ones corresponding to the intercept terms.\n",
    "X = np.ones((m,2))\n",
    "X[:,1] = data[:,0]\n",
    "\n",
    "y = y.reshape(m,1)\n",
    "\n",
    "#initialize the parameter values to 0\n",
    "Theta = np.zeros((2,1))\n",
    "Theta"
   ]
  },
  {
   "cell_type": "markdown",
   "metadata": {},
   "source": [
    "#### Cost Function"
   ]
  },
  {
   "cell_type": "markdown",
   "metadata": {},
   "source": [
    "The gradient descent algorithm tries to minimize the cost corresponding to selecting a particular set of parameters iteratively until a minimum value is obtained."
   ]
  },
  {
   "cell_type": "code",
   "execution_count": 5,
   "metadata": {},
   "outputs": [],
   "source": [
    "def computeCost(X,y,Theta):\n",
    "    '''\n",
    "    Parameters: \n",
    "    X - dependent variable\n",
    "    y - Independent variable\n",
    "    Theta - Parameter vector\n",
    "    \n",
    "    Return Value: returns the cost corresponding to a particular set of chosen\n",
    "    parameters defined in the parameter vector.\n",
    "    \n",
    "    '''\n",
    "    m = len(y)\n",
    "    cost =(1/(2*m)) * np.sum(np.power((np.matmul(X,Theta) - y), 2))\n",
    "      \n",
    "    return cost\n"
   ]
  },
  {
   "cell_type": "code",
   "execution_count": 6,
   "metadata": {},
   "outputs": [],
   "source": [
    "def gradDescentStep(X, y, Theta, alpha):\n",
    "    '''\n",
    "    Parameters:\n",
    "    X - The independent variable\n",
    "    y - The dependent variable which the algorithm is going to predict\n",
    "    Theta - The parameter vector corresponding to starting parameters\n",
    "    alpha - The learning rate\n",
    "    \n",
    "    Returns: \n",
    "    newTheta - The new value of the parameter vector after this iteration\n",
    "    '''\n",
    "    diff = sum((np.matmul(X, Theta) - y) * X)\n",
    "    newTheta = Theta - (alpha/m) * diff.reshape(Theta.shape)\n",
    "    \n",
    "    return newTheta\n"
   ]
  },
  {
   "cell_type": "markdown",
   "metadata": {},
   "source": [
    "Lets compute gradient descent for 1000 iterations and plot the output using a learning rate of 0.01"
   ]
  },
  {
   "cell_type": "code",
   "execution_count": 21,
   "metadata": {},
   "outputs": [
    {
     "data": {
      "image/png": "[encoded data removed]",
      "text/plain": [
       "<matplotlib.figure.Figure at 0x28a933bea20>"
      ]
     },
     "metadata": {},
     "output_type": "display_data"
    }
   ],
   "source": [
    "alpha = 0.01\n",
    "result = []\n",
    "Theta = np.zeros((2,1))\n",
    "for i in range(1,1000):\n",
    "    Theta = gradDescentStep(X, y, Theta, alpha)\n",
    "    cost = computeCost(X,y,Theta)\n",
    "    result.append(cost)\n",
    "costlist = np.array(result)    \n",
    "plt.plot(np.arange(1,1000),costlist)\n",
    "plt.xlabel('Number of Iterations')\n",
    "plt.ylabel('Cost function')\n",
    "plt.axis([0,1000, 4, 6])\n",
    "plt.show()\n"
   ]
  },
  {
   "cell_type": "markdown",
   "metadata": {},
   "source": [
    "Let's implement a recursive version of the gradient descent algorithm and then compute the optimal value of the learning rate used."
   ]
  },
  {
   "cell_type": "code",
   "execution_count": 54,
   "metadata": {},
   "outputs": [
    {
     "data": {
      "image/png": "[encoded data removed]",
      "text/plain": [
       "<matplotlib.figure.Figure at 0x28a933dd390>"
      ]
     },
     "metadata": {},
     "output_type": "display_data"
    }
   ],
   "source": [
    "alpha = 0.02\n",
    "Theta = np.zeros((2,1))\n",
    "result = []\n",
    "for i in range(1,1000):\n",
    "    Theta = gradDescentStep(X, y, Theta, alpha)\n",
    "    cost = computeCost(X,y,Theta)\n",
    "    result.append(cost)\n",
    "costlist = np.array(result)    \n",
    "plt.plot(np.arange(1,1000),costlist)\n",
    "plt.xlabel('Number of Iterations')\n",
    "plt.ylabel('Cost function')\n",
    "plt.axis([0,1000, 4, 6])\n",
    "plt.show()"
   ]
  },
  {
   "cell_type": "markdown",
   "metadata": {},
   "source": [
    "The algorithm seems to converge earlier with a learning rate of 0.02. The learnt parameter values can then be used for predicting further profits for different cities of different populations."
   ]
  },
  {
   "cell_type": "code",
   "execution_count": 27,
   "metadata": {},
   "outputs": [
    {
     "data": {
      "text/plain": [
       "array([[-3.7880308 ],\n",
       "       [ 1.18220898]])"
      ]
     },
     "execution_count": 27,
     "metadata": {},
     "output_type": "execute_result"
    }
   ],
   "source": [
    "Theta"
   ]
  },
  {
   "cell_type": "code",
   "execution_count": 62,
   "metadata": {},
   "outputs": [
    {
     "data": {
      "image/png": "[encoded data removed]",
      "text/plain": [
       "<matplotlib.figure.Figure at 0x28a93361898>"
      ]
     },
     "metadata": {},
     "output_type": "display_data"
    }
   ],
   "source": [
    "x_reg = np.ones((100, 2))\n",
    "x_reg[:,1] = np.linspace(5, 22, 100)\n",
    "y_reg = np.matmul(x_reg, Theta)\n",
    "\n",
    "plt.scatter(X[:,1], y, marker='+', label= 'Input data')\n",
    "plt.plot(x_reg[:,1], y_reg, 'r', label = 'Linear regression')\n",
    "plt.xlabel('Population size in 10,000s')\n",
    "plt.ylabel('Profit in $10,000s')\n",
    "plt.legend(loc='lower right')\n",
    "plt.show()"
   ]
  },
  {
   "cell_type": "markdown",
   "metadata": {},
   "source": [
    "#### Exercise 1b: Linear regression in more than one dependent variable or features"
   ]
  },
  {
   "cell_type": "markdown",
   "metadata": {},
   "source": [
    "For more than one dependent variable, the number parameters would be n + 1 where n is the number of dependent variables or features. That is the parameter vector Theta would be n + 1 dimensional.\n",
    "\n",
    "The data set used for this exercise was obtained from prices of house based on their respective sizes and their number of bedrooms."
   ]
  },
  {
   "cell_type": "code",
   "execution_count": 113,
   "metadata": {},
   "outputs": [],
   "source": [
    "data = np.loadtxt('ex1data2.txt', delimiter = ',')\n",
    "X = data[:,0:2]\n",
    "y = data[:, 2]"
   ]
  },
  {
   "cell_type": "markdown",
   "metadata": {},
   "source": [
    "It is necessary that all of the features are put in a similar scale to ensure that the impact of all the features would impact the final algorithm. This is called feature scaling. A good form of feature scaling is normalization i.e making the features follow a normal distribution by using its mean and standard deviation. Notice that the first feature is in 1,000s and the second is unit scales."
   ]
  },
  {
   "cell_type": "code",
   "execution_count": 114,
   "metadata": {},
   "outputs": [
    {
     "data": {
      "image/png": "[encoded data removed]",
      "text/plain": [
       "<matplotlib.figure.Figure at 0x28a92f51f60>"
      ]
     },
     "metadata": {},
     "output_type": "display_data"
    }
   ],
   "source": [
    "X_norm = (X - np.mean(X, axis=0))/np.std(X, axis=0)\n",
    "plt.subplot(222)\n",
    "plt.hist(X_norm[:,0], bins = 20)\n",
    "plt.hist(X_norm[:,1], bins = 20)\n",
    "plt.show()"
   ]
  },
  {
   "cell_type": "code",
   "execution_count": 98,
   "metadata": {},
   "outputs": [],
   "source": [
    "#initializing the parameter vector\n",
    "m = len(y)\n",
    "x_norm = np.ones([m, X.shape[1] + 1])\n",
    "x_norm[:,1:] = X_norm\n",
    "y = y.reshape(m,1)"
   ]
  },
  {
   "cell_type": "markdown",
   "metadata": {},
   "source": [
    "Using gradient descent with 500 iterations over the training set"
   ]
  },
  {
   "cell_type": "code",
   "execution_count": 111,
   "metadata": {},
   "outputs": [
    {
     "data": {
      "image/png": "[encoded data removed]",
      "text/plain": [
       "<matplotlib.figure.Figure at 0x28a92a4ee10>"
      ]
     },
     "metadata": {},
     "output_type": "display_data"
    }
   ],
   "source": [
    "alpha = 0.02\n",
    "Theta = np.zeros([X.shape[1] + 1, 1])\n",
    "result = []\n",
    "for i in range(1,500):\n",
    "    Theta = gradDescentStep(x_norm, y, Theta, alpha)\n",
    "    cost = computeCost(x_norm,y,Theta)\n",
    "    result.append(cost)\n",
    "costlist = np.array(result)    \n",
    "plt.plot(np.arange(1,500),costlist)\n",
    "plt.xlabel('Number of Iterations')\n",
    "plt.ylabel('Cost function')\n",
    "#plt.axis([0,50, 0, 2])\n",
    "#plt.title('Convergence of the gradient descent algorithm for learning rate = 0.02')\n",
    "plt.show()"
   ]
  },
  {
   "cell_type": "code",
   "execution_count": 112,
   "metadata": {},
   "outputs": [
    {
     "data": {
      "text/plain": [
       "array([[ 340398.40948887],\n",
       "       [ 108743.31080274],\n",
       "       [  -5873.88309524]])"
      ]
     },
     "execution_count": 112,
     "metadata": {},
     "output_type": "execute_result"
    }
   ],
   "source": [
    "Theta"
   ]
  },
  {
   "cell_type": "markdown",
   "metadata": {},
   "source": [
    "The learnt parameters for this regression are "
   ]
  },
  {
   "cell_type": "code",
   "execution_count": null,
   "metadata": {
    "collapsed": true
   },
   "outputs": [],
   "source": []
  }
 ],
 "metadata": {
  "kernelspec": {
   "display_name": "Python 3",
   "language": "python",
   "name": "python3"
  },
  "language_info": {
   "codemirror_mode": {
    "name": "ipython",
    "version": 3
   },
   "file_extension": ".py",
   "mimetype": "text/x-python",
   "name": "python",
   "nbconvert_exporter": "python",
   "pygments_lexer": "ipython3",
   "version": "3.6.1"
  }
 },
 "nbformat": 4,
 "nbformat_minor": 2
}
